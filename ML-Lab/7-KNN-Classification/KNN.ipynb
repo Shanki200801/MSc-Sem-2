{
 "cells": [
  {
   "cell_type": "code",
   "execution_count": 1,
   "metadata": {},
   "outputs": [],
   "source": [
    "import pandas as pd\n",
    "from sklearn.neighbors import KNeighborsClassifier\n",
    "from sklearn.model_selection import train_test_split\n",
    "from sklearn.datasets import load_iris\n",
    "import numpy as np"
   ]
  },
  {
   "cell_type": "code",
   "execution_count": 2,
   "metadata": {},
   "outputs": [
    {
     "data": {
      "text/plain": [
       "array(['Setosa', 'Versicolor', 'Virginica'], dtype=object)"
      ]
     },
     "execution_count": 2,
     "metadata": {},
     "output_type": "execute_result"
    }
   ],
   "source": [
    "df = pd.read_csv('iris.csv')\n",
    "df.head()\n",
    "df['variety'].unique()"
   ]
  },
  {
   "cell_type": "code",
   "execution_count": 7,
   "metadata": {},
   "outputs": [
    {
     "name": "stdout",
     "output_type": "stream",
     "text": [
      "The prediction is [1 1 1 1 1 3 2 1 3 2 2 1 2 2 3]\n"
     ]
    }
   ],
   "source": [
    "x = df[['sepal.length','sepal.width','petal.length','petal.width']]\n",
    "y = df['variety'].replace({'Setosa':1, 'Versicolor':2, 'Virginica':3 })\n",
    "train_x, test_x , train_y, test_y= train_test_split(x,y,test_size=0.1,random_state=3, shuffle=True)\n",
    "knn = KNeighborsClassifier(n_neighbors=3)\n",
    "knn.fit(train_x,train_y)\n",
    "pred_y = knn.predict(test_x)\n",
    "print('The prediction is',pred_y)"
   ]
  },
  {
   "cell_type": "code",
   "execution_count": 4,
   "metadata": {},
   "outputs": [
    {
     "name": "stdout",
     "output_type": "stream",
     "text": [
      "Actual expected results are: [1, 1, 1, 1, 1, 3, 2, 1, 3, 2, 2, 1, 2, 2, 3]\n"
     ]
    }
   ],
   "source": [
    "print('Actual expected results are:', list(test_y))"
   ]
  },
  {
   "cell_type": "code",
   "execution_count": 6,
   "metadata": {},
   "outputs": [
    {
     "name": "stdout",
     "output_type": "stream",
     "text": [
      "Number of incorrect classifications are\n",
      "0\n"
     ]
    }
   ],
   "source": [
    "print('Number of incorrect classifications are')\n",
    "diff = np.array(pred_y) - np.array(test_y)\n",
    "print(len(diff) - list(diff).count(0))"
   ]
  }
 ],
 "metadata": {
  "kernelspec": {
   "display_name": "Python 3",
   "language": "python",
   "name": "python3"
  },
  "language_info": {
   "codemirror_mode": {
    "name": "ipython",
    "version": 3
   },
   "file_extension": ".py",
   "mimetype": "text/x-python",
   "name": "python",
   "nbconvert_exporter": "python",
   "pygments_lexer": "ipython3",
   "version": "3.10.7"
  },
  "orig_nbformat": 4
 },
 "nbformat": 4,
 "nbformat_minor": 2
}
